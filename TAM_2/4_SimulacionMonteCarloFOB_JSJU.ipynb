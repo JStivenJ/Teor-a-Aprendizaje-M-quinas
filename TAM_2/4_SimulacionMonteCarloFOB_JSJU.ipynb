{
  "nbformat": 4,
  "nbformat_minor": 0,
  "metadata": {
    "colab": {
      "provenance": []
    },
    "kernelspec": {
      "name": "python3",
      "display_name": "Python 3"
    },
    "language_info": {
      "name": "python"
    }
  },
  "cells": [
    {
      "cell_type": "markdown",
      "metadata": {
        "id": "h3FqZflaFLL9"
      },
      "source": [
        "# Filtración binaria óptima\n",
        "\n",
        "# Principios en teoría de detección y reconocimiento de patrones (clasificación)\n",
        "\n",
        "- Se presenta un ejemplo ilustrativo de detección de nive DC desde un problema de test de hipotésis.\n",
        "\n",
        "- Además, se ilustra el concepto de simulaciones de Monte Carlo, como alternativa a la estimación de la distribución del estimador.\n",
        "\n",
        "\n",
        "- Hipótesis nula: señal (datos) recibida es ruido.\n",
        "\n",
        "$$H_o: x[n] = w[n]$$\n",
        "\n",
        "- Hipótesis no nula: señal (datos) recibida es nivel DC más ruido.\n",
        "\n",
        "$$H_1: x[n] = A + w[n]$$\n",
        "\n",
        "**Nota**: en este caso se asume ruido blanco Gaussiano $w\\sim \\mathscr{N}(w|0,\\sigma^2).$\n",
        "\n",
        "\n",
        "- Para la simulación de Monte-Carlo con M repeticiones se utilizará un estimador de media simple:\n",
        "\n",
        " $$\\hat{A}[m] = \\frac{1}{N}\\sum^N_{n=1} x[n]$$\n",
        " donde $\\hat{A}_m$ corresponde a la $m$-ésima estimación sobre las $M$ iteraciones.\n",
        "\n",
        " - A partir del areglo de $M$ simulaciones de Monte Carlo, se puede utilizar un conteo simple (frecuencia relativa) para calcular la probabilidad de masa del estimador.\n",
        "\n",
        "- Se compara la influencia en el estimador para $N =\\{1,20\\}$\n",
        "\n",
        "- Se fijan $M = 100$ repeticiones del experimento de Monte Carlo."
      ]
    },
    {
      "cell_type": "code",
      "metadata": {
        "id": "Ae4rFrHsFKgE"
      },
      "source": [
        "import numpy as np\n",
        "import matplotlib.pyplot as plt\n",
        "\n",
        "A = 1 # nivel DC\n",
        "N1 = 1 # muestras a considerar en la detección N=1\n",
        "N2 = 20 # N=20\n",
        "M = 100 # simulaciones monte carlo\n",
        "varw = 0.5 #varianza del ruido\n",
        "T1sr = np.zeros(M)\n",
        "T2sr = np.zeros(M)\n",
        "T1r = np.zeros(M)\n",
        "T2r = np.zeros(M)\n",
        "\n",
        "for m in range(M):#iteraciones de Monte Carlo\n",
        "  w1 = np.sqrt(varw)*np.random.randn(N1) # ruido simulado para N = 1\n",
        "  w2 = np.sqrt(varw)*np.random.randn(N2) # ruido simulado para N = 20\n",
        "  x1 = A + w1 #señal recibida\n",
        "  x2 = A + w2\n",
        "  #detector sobre señal mas ruido\n",
        "  T1sr[m] = x1.mean()\n",
        "  T2sr[m] = x2.mean()\n",
        "  #detector sobre solo ruido\n",
        "  T1r[m] = w1.mean()\n",
        "  T2r[m] = w2.mean()"
      ],
      "execution_count": 1,
      "outputs": []
    },
    {
      "cell_type": "code",
      "metadata": {
        "colab": {
          "base_uri": "https://localhost:8080/",
          "height": 881
        },
        "id": "OhnfU2UmGPv1",
        "outputId": "e45679d9-0c8d-4483-ecf7-8b4c7c4a6fdc"
      },
      "source": [
        "import matplotlib.pyplot as plt\n",
        "#graficar las probabilidades del estimador\n",
        "plt.hist(T1sr,label='Señal + ruido')\n",
        "plt.hist(T1r,label='ruido')\n",
        "plt.xlabel('T(x)')\n",
        "plt.legend()\n",
        "plt.show()\n",
        "\n",
        "plt.hist(T2sr,label='Señal + ruido')\n",
        "plt.hist(T2r,label='ruido')\n",
        "plt.xlabel('T(x)')\n",
        "plt.legend()\n",
        "plt.show()"
      ],
      "execution_count": 2,
      "outputs": [
        {
          "output_type": "display_data",
          "data": {
            "text/plain": [
              "<Figure size 640x480 with 1 Axes>"
            ],
            "image/png": "[encoded data removed]"
          },
          "metadata": {}
        },
        {
          "output_type": "display_data",
          "data": {
            "text/plain": [
              "<Figure size 640x480 with 1 Axes>"
            ],
            "image/png": "[encoded data removed]"
          },
          "metadata": {}
        }
      ]
    },
    {
      "cell_type": "markdown",
      "metadata": {
        "id": "fp00iyvFnlJJ"
      },
      "source": [
        "# Ejercicio:\n",
        "\n",
        "1. Cálcule el coeficiente de desvio para los resultados obtenidos. Ver [Conceptos Teoría Detección](https://github.com/amalvarezme/AprendizajeMaquina/blob/main/4_Clasificacion_Clustering_DR/1_TeoriaDeteccion.pdf).\n",
        "\n",
        "2. Compare la capacidad de detección del estimador $\\tilde{A}=x[0]$ respecto al de media muestral $\\hat{A} = \\frac{1}{N}\\sum^N_{n=1} x[n]$.\n",
        "\n",
        "Estimador 1: sesgo = 0, Estimador 2: 0\n",
        "Varianza 1: $\\sigma^2$, Estimador 2: $\\sigma^2/N$\n",
        "\n",
        "$$mse(\\hat{\\theta})=var(\\hat{\\theta})+b^2(\\hat{\\theta})$$"
      ]
    },
    {
      "cell_type": "code",
      "metadata": {
        "id": "uSy51b6zJauM"
      },
      "source": [
        "#Ayuda\n",
        "#d0 = np.sqrt(A**2)/varw\n",
        "#d1 = N2*np.sqrt(A**2)/varw"
      ],
      "execution_count": 3,
      "outputs": []
    },
    {
      "cell_type": "code",
      "source": [
        "import numpy as np\n",
        "\n",
        "# Parámetros de la señal y ruido\n",
        "A = 2.0  # Amplitud de la señal\n",
        "sigma_w = 1.0  # Desviación estándar del ruido\n",
        "N = 100  # Número de muestras\n",
        "\n",
        "# Desvío para el estimador 1 (usando solo la primera muestra)\n",
        "d0 = np.sqrt(A**2) / sigma_w\n",
        "\n",
        "# Desvío para el estimador 2 (usando la media muestral)\n",
        "d1 = N * np.sqrt(A**2) / sigma_w\n",
        "\n",
        "print(f\"Desvío estimador 1 (x[0]): {d0}\")\n",
        "print(f\"Desvío estimador 2 (media muestral): {d1}\")\n",
        "\n",
        "# MSE de ambos estimadores\n",
        "var1 = sigma_w**2\n",
        "var2 = sigma_w**2 / N\n",
        "\n",
        "mse1 = var1  # Sesgo es cero\n",
        "mse2 = var2  # Sesgo es cero\n",
        "\n",
        "print(f\"MSE estimador 1 (x[0]): {mse1}\")\n",
        "print(f\"MSE estimador 2 (media muestral): {mse2}\")\n",
        "\n",
        "# Relación entre los MSE\n",
        "relacion_mse = mse1 / mse2\n",
        "print(f\"Relación entre MSE del estimador 1 y el estimador 2: {relacion_mse}\")"
      ],
      "metadata": {
        "colab": {
          "base_uri": "https://localhost:8080/"
        },
        "id": "fxoDwp2h4RUu",
        "outputId": "573a2cd9-0282-4475-afdd-342804e11527"
      },
      "execution_count": 4,
      "outputs": [
        {
          "output_type": "stream",
          "name": "stdout",
          "text": [
            "Desvío estimador 1 (x[0]): 2.0\n",
            "Desvío estimador 2 (media muestral): 200.0\n",
            "MSE estimador 1 (x[0]): 1.0\n",
            "MSE estimador 2 (media muestral): 0.01\n",
            "Relación entre MSE del estimador 1 y el estimador 2: 100.0\n"
          ]
        }
      ]
    }
  ]
}